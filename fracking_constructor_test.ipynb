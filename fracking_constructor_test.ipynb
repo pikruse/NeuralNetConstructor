{
 "cells": [
  {
   "cell_type": "code",
   "execution_count": 1,
   "id": "d94f8e0a-4a13-4573-b77a-088c26495741",
   "metadata": {},
   "outputs": [],
   "source": [
    "## IMPORT NECESSARY PACKAGES\n",
    "from NeuralNetConstructor import ANN\n",
    "\n",
    "import numpy as np\n",
    "import pandas as pd\n",
    "\n",
    "from sklearn.model_selection import train_test_split"
   ]
  },
  {
   "cell_type": "code",
   "execution_count": 2,
   "id": "d1561dd0-92b9-4dbf-bbc3-d33612d70433",
   "metadata": {},
   "outputs": [],
   "source": [
    "## LOAD AND PREPROCESS DATA\n",
    "fracking = pd.read_csv(r\"C:\\Users\\Peter\\Desktop\\Classes\\Summer 2021\\CSI Research\\norm_R_table-with-taxonomy.txt\", sep = \"\\t\")\n",
    "fracking_metadata = pd.read_csv(r\"C:\\Users\\Peter\\Desktop\\Classes\\Summer 2021\\CSI Research\\16S_combined_metadata.txt\", sep = \"\\t\")\n",
    "combined_metadata = pd.read_csv(r\"C:\\Users\\Peter\\Desktop\\Classes\\Summer 2021\\CSI Research\\edited_mt_combined_metadata.txt\", sep = \"\\t\")\n",
    "species_table = pd.read_csv(r\"C:\\Users\\Peter\\Desktop\\Classes\\Summer 2021\\CSI Research\\norm_filtered_species_table.txt\", sep = \"\\t\")"
   ]
  },
  {
   "cell_type": "code",
   "execution_count": 3,
   "id": "404d1756-ed97-4475-a161-cd9c10c5e1d7",
   "metadata": {},
   "outputs": [],
   "source": [
    "combined_metadata = combined_metadata.set_index(\"SampleID\")"
   ]
  },
  {
   "cell_type": "code",
   "execution_count": 4,
   "id": "4d3bf344-0e0e-4bdc-96c4-244e16ebad74",
   "metadata": {},
   "outputs": [],
   "source": [
    "species_table = species_table.set_index(\"SampleID\")\n",
    "species_table = species_table.transpose()"
   ]
  },
  {
   "cell_type": "code",
   "execution_count": 5,
   "id": "0d2acdd3-ce16-41c8-a1ca-fb13d3922794",
   "metadata": {},
   "outputs": [],
   "source": [
    "merged_data = pd.merge(species_table, combined_metadata, left_index=True, right_index=True)"
   ]
  },
  {
   "cell_type": "code",
   "execution_count": 6,
   "id": "63106628-48f6-418c-84a6-824ed7aca6d0",
   "metadata": {},
   "outputs": [
    {
     "name": "stdout",
     "output_type": "stream",
     "text": [
      "(99, 8218) (99,)\n"
     ]
    }
   ],
   "source": [
    "X = merged_data.iloc[:, :-17]\n",
    "y = merged_data.loc[:, \"HF_Status\"]\n",
    "y = np.where(y == \"HF+\", 1, 0)\n",
    "\n",
    "print(X.shape, y.shape)"
   ]
  },
  {
   "cell_type": "code",
   "execution_count": 7,
   "id": "3c708e3c-e86f-43e2-a6c8-ce95d5a21c1c",
   "metadata": {},
   "outputs": [
    {
     "name": "stdout",
     "output_type": "stream",
     "text": [
      "(79, 8218) (20, 8218) (79,) (20,)\n"
     ]
    }
   ],
   "source": [
    "X_train, X_test, y_train, y_test = train_test_split(X, y, test_size=.2)\n",
    "print(X_train.shape, X_test.shape, y_train.shape, y_test.shape)"
   ]
  },
  {
   "cell_type": "code",
   "execution_count": 8,
   "id": "096abf59-4f01-426f-bcfc-316d4ffe49b9",
   "metadata": {},
   "outputs": [],
   "source": [
    "# initialize artificial neural network\n",
    "fracking_net = ANN(input_dim = X_train.shape[1], #input dimension\n",
    "                   neurons = [100, 100, 100], #number of neurons in each hidden layer\n",
    "                   activation = \"softplus\", #activation for each layer\n",
    "                   output_activation = \"sigmoid\", #activation for output\n",
    "                   output_neurons = 1, #number of neurons in output (1 for binary classification)\n",
    "                   batch_size = 32, \n",
    "                   epochs = 100,\n",
    "                   use_batch_norm = True,\n",
    "                   use_dropout = True,\n",
    "                   dropout_rate = .4)"
   ]
  },
  {
   "cell_type": "code",
   "execution_count": 9,
   "id": "79cd7010-e1b9-42fc-bae0-ff3ea91bd59e",
   "metadata": {},
   "outputs": [
    {
     "name": "stdout",
     "output_type": "stream",
     "text": [
      "Model: \"model\"\n",
      "_________________________________________________________________\n",
      "Layer (type)                 Output Shape              Param #   \n",
      "=================================================================\n",
      "input (InputLayer)           [(None, 8218)]            0         \n",
      "_________________________________________________________________\n",
      "batch_normalization (BatchNo (None, 8218)              32872     \n",
      "_________________________________________________________________\n",
      "layer_0 (Dense)              (None, 100)               821900    \n",
      "_________________________________________________________________\n",
      "dropout (Dropout)            (None, 100)               0         \n",
      "_________________________________________________________________\n",
      "batch_normalization_1 (Batch (None, 100)               400       \n",
      "_________________________________________________________________\n",
      "layer_1 (Dense)              (None, 100)               10100     \n",
      "_________________________________________________________________\n",
      "dropout_1 (Dropout)          (None, 100)               0         \n",
      "_________________________________________________________________\n",
      "batch_normalization_2 (Batch (None, 100)               400       \n",
      "_________________________________________________________________\n",
      "layer_2 (Dense)              (None, 100)               10100     \n",
      "_________________________________________________________________\n",
      "dropout_2 (Dropout)          (None, 100)               0         \n",
      "_________________________________________________________________\n",
      "batch_normalization_3 (Batch (None, 100)               400       \n",
      "_________________________________________________________________\n",
      "dense (Dense)                (None, 1)                 101       \n",
      "=================================================================\n",
      "Total params: 876,273\n",
      "Trainable params: 859,237\n",
      "Non-trainable params: 17,036\n",
      "_________________________________________________________________\n"
     ]
    }
   ],
   "source": [
    "# view model architecture\n",
    "fracking_net.model.summary()"
   ]
  },
  {
   "cell_type": "code",
   "execution_count": 13,
   "id": "83684e05-4811-4575-afce-cf80223c2d39",
   "metadata": {},
   "outputs": [
    {
     "data": {
      "text/plain": [
       "<bound method ANN.compile of <NeuralNetConstructor.ANN object at 0x0000013A5CFED130>>"
      ]
     },
     "execution_count": 13,
     "metadata": {},
     "output_type": "execute_result"
    }
   ],
   "source": [
    "#compile model\n",
    "fracking_net.compile()"
   ]
  },
  {
   "cell_type": "code",
   "execution_count": 11,
   "id": "48abb5b9-24b7-4b2d-8188-fd04cdf7c752",
   "metadata": {},
   "outputs": [
    {
     "name": "stdout",
     "output_type": "stream",
     "text": [
      "3/3 [==============================] - 0s 10ms/step - loss: 0.0895 - auc: 0.9971 - accuracy: 0.9620\n",
      "Train Loss: 0.0895 \n",
      " Train AUC: 0.9971 \n",
      " Train Accuracy: 96.2025%\n"
     ]
    }
   ],
   "source": [
    "# train model\n",
    "fracking_net.train(X_train, y_train)"
   ]
  },
  {
   "cell_type": "code",
   "execution_count": 12,
   "id": "a7565a6e-83bb-437e-a3d0-557f6c32b7c6",
   "metadata": {},
   "outputs": [
    {
     "name": "stdout",
     "output_type": "stream",
     "text": [
      "1/1 [==============================] - 0s 27ms/step - loss: 0.0397 - auc: 1.0000 - accuracy: 1.0000\n",
      "Test Loss: 0.0397 \n",
      " Test AUC: 1.0000 \n",
      " Test Accuracy: 100.0000%\n"
     ]
    }
   ],
   "source": [
    "# test model\n",
    "fracking_net.test(X_test, y_test)"
   ]
  }
 ],
 "metadata": {
  "kernelspec": {
   "display_name": "Python 3 (ipykernel)",
   "language": "python",
   "name": "python3"
  },
  "language_info": {
   "codemirror_mode": {
    "name": "ipython",
    "version": 3
   },
   "file_extension": ".py",
   "mimetype": "text/x-python",
   "name": "python",
   "nbconvert_exporter": "python",
   "pygments_lexer": "ipython3",
   "version": "3.8.5"
  }
 },
 "nbformat": 4,
 "nbformat_minor": 5
}
