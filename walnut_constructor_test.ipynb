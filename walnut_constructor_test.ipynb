{
 "cells": [
  {
   "cell_type": "code",
   "execution_count": 1,
   "id": "3d998c5a-fa6c-4f09-954c-bed4bc0b5374",
   "metadata": {},
   "outputs": [],
   "source": [
    "## IMPORT NECESSARY PACKAGES\n",
    "from NeuralNetConstructor import ANN\n",
    "\n",
    "import numpy as np\n",
    "from keras.utils import np_utils\n",
    "from numpy.random import randn\n",
    "import pandas as pd\n",
    "import matplotlib.pyplot as plt\n",
    "\n",
    "import tensorflow as tf\n",
    "from tensorflow.python.keras import regularizers\n",
    "from tensorflow.keras.constraints import max_norm\n",
    "import tensorflow.keras.backend as K\n",
    "\n",
    "from sklearn.model_selection import train_test_split\n",
    "\n",
    "import tensorflow as tf\n",
    "physical_devices = tf.config.list_physical_devices('GPU') \n",
    "for device in physical_devices:\n",
    "    tf.config.experimental.set_memory_growth(device, True)"
   ]
  },
  {
   "cell_type": "code",
   "execution_count": 2,
   "id": "73aef0a7-ed76-4a5f-ad73-054e817a535f",
   "metadata": {},
   "outputs": [
    {
     "data": {
      "text/plain": [
       "(121, 6165)"
      ]
     },
     "execution_count": 2,
     "metadata": {},
     "output_type": "execute_result"
    }
   ],
   "source": [
    "## DATA PREPROCESSING\n",
    "data = pd.read_csv(r\"C:\\Users\\Peter\\Desktop\\Classes\\Summer 2021\\CSI Research\\walnutnn.txt\")\n",
    "data = data.set_index(\"SampleID\")\n",
    "data.shape"
   ]
  },
  {
   "cell_type": "code",
   "execution_count": 3,
   "id": "8234dee2-28e7-4cb2-9be8-5afd1e001f89",
   "metadata": {},
   "outputs": [],
   "source": [
    "X = data.iloc[:, 1:]\n",
    "y = data.iloc[:, 0]"
   ]
  },
  {
   "cell_type": "code",
   "execution_count": 4,
   "id": "3af3172b-6470-4483-bbac-60674419a744",
   "metadata": {},
   "outputs": [
    {
     "data": {
      "text/plain": [
       "(121, 5950)"
      ]
     },
     "execution_count": 4,
     "metadata": {},
     "output_type": "execute_result"
    }
   ],
   "source": [
    "# remove samples w/ fewer than 100 reads\n",
    "row_drop = []\n",
    "\n",
    "for i in range(len(X)):\n",
    "    row_sum = X.iloc[i].sum()\n",
    "    if row_sum < 100:\n",
    "        row_drop.append(i)\n",
    "\n",
    "X.drop(labels = row_drop, axis = 0, inplace = True)\n",
    "\n",
    "# remove OTUs with fewer than 10 reads\n",
    "col_drop = []\n",
    "\n",
    "for i in range(X.shape[1]):\n",
    "    col_sum = X.iloc[:, i].sum()\n",
    "    if col_sum < 10:\n",
    "        col_drop.append(i)\n",
    "        \n",
    "X.drop((X.columns[i] for i in col_drop), axis = 1, inplace = True)\n",
    "\n",
    "# remove OTUs present in fewer than 1% of samples\n",
    "otu_col_drop = []\n",
    "\n",
    "for j in range(X.shape[1]):\n",
    "    non_zero_reads = 0\n",
    "    for i in range(X.shape[0]):\n",
    "        if X.iloc[i, j] > 0:\n",
    "            non_zero_reads += 1\n",
    "    presence_pct = non_zero_reads / X.shape[0]\n",
    "    if presence_pct < .01:\n",
    "        otu_col_drop.append(i)\n",
    "\n",
    "X.drop((X.columns[i] for i in otu_col_drop), axis = 1, inplace = True)\n",
    "X = np.array(X)\n",
    "\n",
    "X.shape"
   ]
  },
  {
   "cell_type": "code",
   "execution_count": 18,
   "id": "d6f191a1-04e2-4f28-9e42-721a7f8e35fb",
   "metadata": {},
   "outputs": [
    {
     "ename": "ValueError",
     "evalue": "y should be a 1d array, got an array of shape (121, 4) instead.",
     "output_type": "error",
     "traceback": [
      "\u001b[1;31m---------------------------------------------------------------------------\u001b[0m",
      "\u001b[1;31mValueError\u001b[0m                                Traceback (most recent call last)",
      "\u001b[1;32m~\\AppData\\Local\\Temp/ipykernel_11808/228629172.py\u001b[0m in \u001b[0;36m<module>\u001b[1;34m\u001b[0m\n\u001b[0;32m      3\u001b[0m \u001b[1;32mfrom\u001b[0m \u001b[0mtensorflow\u001b[0m \u001b[1;32mimport\u001b[0m \u001b[0mkeras\u001b[0m\u001b[1;33m\u001b[0m\u001b[1;33m\u001b[0m\u001b[0m\n\u001b[0;32m      4\u001b[0m \u001b[0menc\u001b[0m \u001b[1;33m=\u001b[0m \u001b[0mLabelEncoder\u001b[0m\u001b[1;33m(\u001b[0m\u001b[1;33m)\u001b[0m\u001b[1;33m\u001b[0m\u001b[1;33m\u001b[0m\u001b[0m\n\u001b[1;32m----> 5\u001b[1;33m \u001b[0my\u001b[0m \u001b[1;33m=\u001b[0m \u001b[0menc\u001b[0m\u001b[1;33m.\u001b[0m\u001b[0mfit_transform\u001b[0m\u001b[1;33m(\u001b[0m\u001b[0my\u001b[0m\u001b[1;33m)\u001b[0m\u001b[1;33m\u001b[0m\u001b[1;33m\u001b[0m\u001b[0m\n\u001b[0m\u001b[0;32m      6\u001b[0m \u001b[1;33m\u001b[0m\u001b[0m\n\u001b[0;32m      7\u001b[0m \u001b[1;31m# convert integers to dummy variables (i.e. one hot encoded)\u001b[0m\u001b[1;33m\u001b[0m\u001b[1;33m\u001b[0m\u001b[1;33m\u001b[0m\u001b[0m\n",
      "\u001b[1;32m~\\anaconda3\\lib\\site-packages\\sklearn\\preprocessing\\_label.py\u001b[0m in \u001b[0;36mfit_transform\u001b[1;34m(self, y)\u001b[0m\n\u001b[0;32m    253\u001b[0m         \u001b[0my\u001b[0m \u001b[1;33m:\u001b[0m \u001b[0marray\u001b[0m\u001b[1;33m-\u001b[0m\u001b[0mlike\u001b[0m \u001b[0mof\u001b[0m \u001b[0mshape\u001b[0m \u001b[1;33m[\u001b[0m\u001b[0mn_samples\u001b[0m\u001b[1;33m]\u001b[0m\u001b[1;33m\u001b[0m\u001b[1;33m\u001b[0m\u001b[0m\n\u001b[0;32m    254\u001b[0m         \"\"\"\n\u001b[1;32m--> 255\u001b[1;33m         \u001b[0my\u001b[0m \u001b[1;33m=\u001b[0m \u001b[0mcolumn_or_1d\u001b[0m\u001b[1;33m(\u001b[0m\u001b[0my\u001b[0m\u001b[1;33m,\u001b[0m \u001b[0mwarn\u001b[0m\u001b[1;33m=\u001b[0m\u001b[1;32mTrue\u001b[0m\u001b[1;33m)\u001b[0m\u001b[1;33m\u001b[0m\u001b[1;33m\u001b[0m\u001b[0m\n\u001b[0m\u001b[0;32m    256\u001b[0m         \u001b[0mself\u001b[0m\u001b[1;33m.\u001b[0m\u001b[0mclasses_\u001b[0m\u001b[1;33m,\u001b[0m \u001b[0my\u001b[0m \u001b[1;33m=\u001b[0m \u001b[0m_encode\u001b[0m\u001b[1;33m(\u001b[0m\u001b[0my\u001b[0m\u001b[1;33m,\u001b[0m \u001b[0mencode\u001b[0m\u001b[1;33m=\u001b[0m\u001b[1;32mTrue\u001b[0m\u001b[1;33m)\u001b[0m\u001b[1;33m\u001b[0m\u001b[1;33m\u001b[0m\u001b[0m\n\u001b[0;32m    257\u001b[0m         \u001b[1;32mreturn\u001b[0m \u001b[0my\u001b[0m\u001b[1;33m\u001b[0m\u001b[1;33m\u001b[0m\u001b[0m\n",
      "\u001b[1;32m~\\anaconda3\\lib\\site-packages\\sklearn\\utils\\validation.py\u001b[0m in \u001b[0;36minner_f\u001b[1;34m(*args, **kwargs)\u001b[0m\n\u001b[0;32m     70\u001b[0m                           FutureWarning)\n\u001b[0;32m     71\u001b[0m         \u001b[0mkwargs\u001b[0m\u001b[1;33m.\u001b[0m\u001b[0mupdate\u001b[0m\u001b[1;33m(\u001b[0m\u001b[1;33m{\u001b[0m\u001b[0mk\u001b[0m\u001b[1;33m:\u001b[0m \u001b[0marg\u001b[0m \u001b[1;32mfor\u001b[0m \u001b[0mk\u001b[0m\u001b[1;33m,\u001b[0m \u001b[0marg\u001b[0m \u001b[1;32min\u001b[0m \u001b[0mzip\u001b[0m\u001b[1;33m(\u001b[0m\u001b[0msig\u001b[0m\u001b[1;33m.\u001b[0m\u001b[0mparameters\u001b[0m\u001b[1;33m,\u001b[0m \u001b[0margs\u001b[0m\u001b[1;33m)\u001b[0m\u001b[1;33m}\u001b[0m\u001b[1;33m)\u001b[0m\u001b[1;33m\u001b[0m\u001b[1;33m\u001b[0m\u001b[0m\n\u001b[1;32m---> 72\u001b[1;33m         \u001b[1;32mreturn\u001b[0m \u001b[0mf\u001b[0m\u001b[1;33m(\u001b[0m\u001b[1;33m**\u001b[0m\u001b[0mkwargs\u001b[0m\u001b[1;33m)\u001b[0m\u001b[1;33m\u001b[0m\u001b[1;33m\u001b[0m\u001b[0m\n\u001b[0m\u001b[0;32m     73\u001b[0m     \u001b[1;32mreturn\u001b[0m \u001b[0minner_f\u001b[0m\u001b[1;33m\u001b[0m\u001b[1;33m\u001b[0m\u001b[0m\n\u001b[0;32m     74\u001b[0m \u001b[1;33m\u001b[0m\u001b[0m\n",
      "\u001b[1;32m~\\anaconda3\\lib\\site-packages\\sklearn\\utils\\validation.py\u001b[0m in \u001b[0;36mcolumn_or_1d\u001b[1;34m(y, warn)\u001b[0m\n\u001b[0;32m    843\u001b[0m         \u001b[1;32mreturn\u001b[0m \u001b[0mnp\u001b[0m\u001b[1;33m.\u001b[0m\u001b[0mravel\u001b[0m\u001b[1;33m(\u001b[0m\u001b[0my\u001b[0m\u001b[1;33m)\u001b[0m\u001b[1;33m\u001b[0m\u001b[1;33m\u001b[0m\u001b[0m\n\u001b[0;32m    844\u001b[0m \u001b[1;33m\u001b[0m\u001b[0m\n\u001b[1;32m--> 845\u001b[1;33m     raise ValueError(\n\u001b[0m\u001b[0;32m    846\u001b[0m         \u001b[1;34m\"y should be a 1d array, \"\u001b[0m\u001b[1;33m\u001b[0m\u001b[1;33m\u001b[0m\u001b[0m\n\u001b[0;32m    847\u001b[0m         \"got an array of shape {} instead.\".format(shape))\n",
      "\u001b[1;31mValueError\u001b[0m: y should be a 1d array, got an array of shape (121, 4) instead."
     ]
    }
   ],
   "source": [
    "# label -> one-hot encoding\n",
    "from sklearn.preprocessing import LabelEncoder\n",
    "from tensorflow import keras\n",
    "enc = LabelEncoder()\n",
    "y = enc.fit_transform(y)\n",
    "\n",
    "# convert integers to dummy variables (i.e. one hot encoded)\n",
    "y = np_utils.to_categorical(y)"
   ]
  },
  {
   "cell_type": "code",
   "execution_count": 6,
   "id": "f92bb89e-20d8-4102-8ff3-9cc93048346f",
   "metadata": {},
   "outputs": [
    {
     "data": {
      "text/plain": [
       "(96, 4)"
      ]
     },
     "execution_count": 6,
     "metadata": {},
     "output_type": "execute_result"
    }
   ],
   "source": [
    "X_train, X_test, y_train, y_test = train_test_split(X, y, test_size = .2)\n",
    "y_train.shape"
   ]
  },
  {
   "cell_type": "code",
   "execution_count": 13,
   "id": "297a25fc-787d-41e0-8a19-a5a043fa00f0",
   "metadata": {},
   "outputs": [],
   "source": [
    "# initialize artificial neural network\n",
    "walnut_net = ANN(input_dim = X_train.shape[1], #input dimension\n",
    "                   neurons = [1000, 1000, 500, 250], #number of neurons in each hidden layer\n",
    "                   activation = \"relu\", #activation for each layer\n",
    "                   output_activation = \"softmax\", #activation for output\n",
    "                   output_neurons = 4, #number of neurons in output (1 for binary classification)\n",
    "                   batch_size = 32, \n",
    "                   epochs = 1000,\n",
    "                   use_batch_norm = True,\n",
    "                   use_dropout = True,\n",
    "                   dropout_rate = .5)"
   ]
  },
  {
   "cell_type": "code",
   "execution_count": 14,
   "id": "794ca358-791e-42a1-be88-aec230191e3a",
   "metadata": {},
   "outputs": [
    {
     "name": "stdout",
     "output_type": "stream",
     "text": [
      "Model: \"model_1\"\n",
      "_________________________________________________________________\n",
      "Layer (type)                 Output Shape              Param #   \n",
      "=================================================================\n",
      "input (InputLayer)           [(None, 5950)]            0         \n",
      "_________________________________________________________________\n",
      "batch_normalization_5 (Batch (None, 5950)              23800     \n",
      "_________________________________________________________________\n",
      "layer_0 (Dense)              (None, 1000)              5951000   \n",
      "_________________________________________________________________\n",
      "dropout_4 (Dropout)          (None, 1000)              0         \n",
      "_________________________________________________________________\n",
      "batch_normalization_6 (Batch (None, 1000)              4000      \n",
      "_________________________________________________________________\n",
      "layer_1 (Dense)              (None, 1000)              1001000   \n",
      "_________________________________________________________________\n",
      "dropout_5 (Dropout)          (None, 1000)              0         \n",
      "_________________________________________________________________\n",
      "batch_normalization_7 (Batch (None, 1000)              4000      \n",
      "_________________________________________________________________\n",
      "layer_2 (Dense)              (None, 500)               500500    \n",
      "_________________________________________________________________\n",
      "dropout_6 (Dropout)          (None, 500)               0         \n",
      "_________________________________________________________________\n",
      "batch_normalization_8 (Batch (None, 500)               2000      \n",
      "_________________________________________________________________\n",
      "layer_3 (Dense)              (None, 250)               125250    \n",
      "_________________________________________________________________\n",
      "dropout_7 (Dropout)          (None, 250)               0         \n",
      "_________________________________________________________________\n",
      "batch_normalization_9 (Batch (None, 250)               1000      \n",
      "_________________________________________________________________\n",
      "dense_1 (Dense)              (None, 4)                 1004      \n",
      "=================================================================\n",
      "Total params: 7,613,554\n",
      "Trainable params: 7,596,154\n",
      "Non-trainable params: 17,400\n",
      "_________________________________________________________________\n"
     ]
    }
   ],
   "source": [
    "walnut_net.model.summary()"
   ]
  },
  {
   "cell_type": "code",
   "execution_count": 15,
   "id": "80209c3b-ff1b-46a2-8222-429fdb0da9df",
   "metadata": {},
   "outputs": [],
   "source": [
    "walnut_net.compile()"
   ]
  },
  {
   "cell_type": "code",
   "execution_count": 16,
   "id": "b115d779-9c8f-4f5a-8fb1-6a9c7a923c1c",
   "metadata": {},
   "outputs": [
    {
     "name": "stdout",
     "output_type": "stream",
     "text": [
      "3/3 [==============================] - 0s 8ms/step - loss: 20.5612 - auc: 0.9152 - accuracy: 0.8646\n",
      "Train Loss: 20.5612 \n",
      " Train AUC: 0.9152 \n",
      " Train Accuracy: 86.4583%\n"
     ]
    }
   ],
   "source": [
    "walnut_net.train(X_train, y_train)"
   ]
  },
  {
   "cell_type": "code",
   "execution_count": 17,
   "id": "a3890cae-6ae8-48e6-85a5-77b7ac54a7cc",
   "metadata": {},
   "outputs": [
    {
     "name": "stdout",
     "output_type": "stream",
     "text": [
      "1/1 [==============================] - 0s 24ms/step - loss: 134.3229 - auc: 0.4733 - accuracy: 0.2000\n",
      "Test Loss: 134.3229 \n",
      " Test AUC: 0.4733 \n",
      " Test Accuracy: 20.0000%\n"
     ]
    }
   ],
   "source": [
    "walnut_net.test(X_test, y_test)"
   ]
  }
 ],
 "metadata": {
  "kernelspec": {
   "display_name": "Python 3 (ipykernel)",
   "language": "python",
   "name": "python3"
  },
  "language_info": {
   "codemirror_mode": {
    "name": "ipython",
    "version": 3
   },
   "file_extension": ".py",
   "mimetype": "text/x-python",
   "name": "python",
   "nbconvert_exporter": "python",
   "pygments_lexer": "ipython3",
   "version": "3.8.5"
  }
 },
 "nbformat": 4,
 "nbformat_minor": 5
}
